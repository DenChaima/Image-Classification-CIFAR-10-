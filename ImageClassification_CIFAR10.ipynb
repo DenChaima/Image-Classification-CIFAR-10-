{
 "cells": [
  {
   "cell_type": "markdown",
   "id": "f4c1ec26",
   "metadata": {},
   "source": [
    "# Image classification using the CIFAR 10 dataset\n",
    "\n",
    "__Objectif:__ the goal of this project is to build a Deep Neural Network to classify the images of the CIFAR 10 dataset into one of the 10 classes.\n",
    "\n",
    "__Approach:__ We tested two models: a simple Artificial Neural Network (ANN) and a Convolutional Neural Network (CNN). \n",
    "\n",
    "__Results__: The results showed that the CNN largely outperformed the ANN both on the training set and on the test set. "
   ]
  },
  {
   "cell_type": "markdown",
   "id": "5cf1fff9",
   "metadata": {},
   "source": [
    "# Import Packages\n",
    "\n",
    "We start by importing the packages that we need in our project: "
   ]
  },
  {
   "cell_type": "code",
   "execution_count": 1,
   "id": "70e5b798",
   "metadata": {},
   "outputs": [],
   "source": [
    "import tensorflow as tf\n",
    "from tensorflow.keras import datasets, layers, models\n",
    "import matplotlib.pyplot as plt\n",
    "import numpy as np\n",
    "#from tensorflow.keras.utils import to_categorical"
   ]
  },
  {
   "cell_type": "markdown",
   "id": "c91b186b",
   "metadata": {},
   "source": [
    "# Load the CIFAR10 dataset\n",
    "\n",
    "The CIFAR-10 dataset (Canadian Institute for Advanced Research, 10 classes) is a subset of the Tiny Images dataset and consists of 60000 32x32 color images. \n",
    "\n",
    "The images are labelled with one of 10 mutually exclusive classes: airplane, automobile (but not truck or pickup truck), bird, cat, deer, dog, frog, horse, ship, and truck (but not pickup truck). \n",
    "\n",
    "There are 6000 images per class with 5000 training and 1000 testing images per class."
   ]
  },
  {
   "cell_type": "code",
   "execution_count": 2,
   "id": "fa3a0749",
   "metadata": {},
   "outputs": [],
   "source": [
    "#load the data \n",
    "(X_train, y_train), (X_test,y_test) = datasets.cifar10.load_data()"
   ]
  },
  {
   "cell_type": "markdown",
   "id": "648773f4",
   "metadata": {},
   "source": [
    "# Check the shape of the training and test set"
   ]
  },
  {
   "cell_type": "code",
   "execution_count": 3,
   "id": "7c28777e",
   "metadata": {},
   "outputs": [
    {
     "name": "stdout",
     "output_type": "stream",
     "text": [
      "shape of X_train (50000, 32, 32, 3)\n",
      "shape of y_train (50000, 1)\n",
      "shape of X_test (10000, 32, 32, 3)\n",
      "shape of y_test (10000, 1)\n"
     ]
    }
   ],
   "source": [
    "print(\"shape of X_train\", X_train.shape)\n",
    "print(\"shape of y_train\", y_train.shape)\n",
    "print(\"shape of X_test\", X_test.shape)\n",
    "print(\"shape of y_test\", y_test.shape)"
   ]
  },
  {
   "cell_type": "markdown",
   "id": "ffa5ec41",
   "metadata": {},
   "source": [
    "We can see that the training set contains 50000 training images, and the test set contains 10000 test images.\n",
    "\n",
    "each image has a 32x32 size and is RGB image (hence the number 3 representing the RGB channels).\n",
    " "
   ]
  },
  {
   "cell_type": "markdown",
   "id": "53ff5215",
   "metadata": {},
   "source": [
    "# Reshape the target value training and test set\n",
    "\n",
    "Both the y_train vector and the y_test vector are 2D vectors. we need to reshape them into a 1D vector. "
   ]
  },
  {
   "cell_type": "code",
   "execution_count": 4,
   "id": "bc90e34f",
   "metadata": {},
   "outputs": [
    {
     "data": {
      "text/plain": [
       "array([[6],\n",
       "       [9],\n",
       "       [9],\n",
       "       [4],\n",
       "       [1]], dtype=uint8)"
      ]
     },
     "execution_count": 4,
     "metadata": {},
     "output_type": "execute_result"
    }
   ],
   "source": [
    "#check the target value training set\n",
    "y_train[:5]"
   ]
  },
  {
   "cell_type": "code",
   "execution_count": 5,
   "id": "55b2e67a",
   "metadata": {},
   "outputs": [
    {
     "data": {
      "text/plain": [
       "array([[3],\n",
       "       [8],\n",
       "       [8],\n",
       "       [0],\n",
       "       [6]], dtype=uint8)"
      ]
     },
     "execution_count": 5,
     "metadata": {},
     "output_type": "execute_result"
    }
   ],
   "source": [
    "#check the target value test set\n",
    "y_test[:5]"
   ]
  },
  {
   "cell_type": "code",
   "execution_count": 6,
   "id": "1108f414",
   "metadata": {},
   "outputs": [],
   "source": [
    "#Reshape them  into a 1D vector\n",
    "y_train = y_train.reshape(-1,)\n",
    "y_test = y_test.reshape(-1,)"
   ]
  },
  {
   "cell_type": "code",
   "execution_count": 7,
   "id": "5bc494f3",
   "metadata": {},
   "outputs": [
    {
     "data": {
      "text/plain": [
       "array([6, 9, 9, 4, 1], dtype=uint8)"
      ]
     },
     "execution_count": 7,
     "metadata": {},
     "output_type": "execute_result"
    }
   ],
   "source": [
    "#check again the target value training set\n",
    "y_train[:5]"
   ]
  },
  {
   "cell_type": "code",
   "execution_count": 8,
   "id": "44c170f1",
   "metadata": {},
   "outputs": [
    {
     "data": {
      "text/plain": [
       "array([3, 8, 8, 0, 6], dtype=uint8)"
      ]
     },
     "execution_count": 8,
     "metadata": {},
     "output_type": "execute_result"
    }
   ],
   "source": [
    "#check again the target value test set\n",
    "y_test[:5]"
   ]
  },
  {
   "cell_type": "markdown",
   "id": "ce5cb2e4",
   "metadata": {},
   "source": [
    "# Plot training examples \n",
    "\n",
    "As seen above the y_train and y-test are already encoded (each number corresponds to a specific class). \n",
    "\n",
    "To make it easier to understand, we correspond each number to the corresponding label (according to the CIFAR 10 description)."
   ]
  },
  {
   "cell_type": "code",
   "execution_count": 9,
   "id": "2b69d18f",
   "metadata": {},
   "outputs": [],
   "source": [
    "#set the labels of the dataset\n",
    "labels = [\"airplane\",\"automobile\",\"bird\",\"cat\",\"deer\",\"dog\",\"frog\",\"horse\",\"ship\",\"truck\"]"
   ]
  },
  {
   "cell_type": "markdown",
   "id": "dbcc91a2",
   "metadata": {},
   "source": [
    "We plot a trainig example to confirm that the image corresponds to the label:"
   ]
  },
  {
   "cell_type": "code",
   "execution_count": 10,
   "id": "dcf0356d",
   "metadata": {},
   "outputs": [],
   "source": [
    "#Plot a training example\n",
    "def plot_sample(X, y, index):\n",
    "    plt.figure()\n",
    "    plt.imshow(X[index])\n",
    "    plt.colorbar()\n",
    "    plt.grid(False)\n",
    "    plt.xlabel(labels[y[index]])"
   ]
  },
  {
   "cell_type": "code",
   "execution_count": 11,
   "id": "c3e867d8",
   "metadata": {},
   "outputs": [
    {
     "data": {
      "image/png": "[encoded data removed]",
      "text/plain": [
       "<Figure size 432x288 with 2 Axes>"
      ]
     },
     "metadata": {
      "needs_background": "light"
     },
     "output_type": "display_data"
    }
   ],
   "source": [
    "plot_sample(X_train, y_train, 99)"
   ]
  },
  {
   "cell_type": "markdown",
   "id": "fc02838d",
   "metadata": {},
   "source": [
    "# Preprocess the data: Normalization \n",
    "\n",
    "We can see from the plot above that the pixel values of the images are in the range between 0 to 255, before feeding them to the neural network, we need to scale these values to a range between 0 to 1.\n",
    "\n",
    "This is done by divinding the values by 255. Both the training set and the test set are preprocessed in the same way.\n"
   ]
  },
  {
   "cell_type": "code",
   "execution_count": 12,
   "id": "61fa3a41",
   "metadata": {},
   "outputs": [],
   "source": [
    "#normalize data\n",
    "X_train = X_train / 255.0\n",
    "X_test = X_test / 255.0"
   ]
  },
  {
   "cell_type": "code",
   "execution_count": 13,
   "id": "348c8cda",
   "metadata": {},
   "outputs": [
    {
     "data": {
      "image/png": "[encoded data removed]",
      "text/plain": [
       "<Figure size 432x288 with 2 Axes>"
      ]
     },
     "metadata": {
      "needs_background": "light"
     },
     "output_type": "display_data"
    }
   ],
   "source": [
    "plot_sample(X_train, y_train, 99)"
   ]
  },
  {
   "cell_type": "markdown",
   "id": "f5cffeb6",
   "metadata": {},
   "source": [
    "We can now see that the pixel values of the images are between 0 and 1."
   ]
  },
  {
   "cell_type": "markdown",
   "id": "bfad7164",
   "metadata": {},
   "source": [
    "# Building the deep learning model \n",
    "\n",
    "## ANN model:"
   ]
  },
  {
   "cell_type": "markdown",
   "id": "927501e7",
   "metadata": {},
   "source": [
    "We start by building a simple Artificial Neural Network (ANN) Model"
   ]
  },
  {
   "cell_type": "code",
   "execution_count": 14,
   "id": "bba40c4f",
   "metadata": {},
   "outputs": [
    {
     "name": "stderr",
     "output_type": "stream",
     "text": [
      "2022-08-30 22:05:26.617575: I tensorflow/core/platform/cpu_feature_guard.cc:193] This TensorFlow binary is optimized with oneAPI Deep Neural Network Library (oneDNN) to use the following CPU instructions in performance-critical operations:  AVX2 FMA\n",
      "To enable them in other operations, rebuild TensorFlow with the appropriate compiler flags.\n"
     ]
    }
   ],
   "source": [
    "#build a simple ann\n",
    "ann = models.Sequential([\n",
    "        layers.Flatten(input_shape=(32,32,3)),\n",
    "        layers.Dense(3000, activation='relu'),\n",
    "        layers.Dense(1000, activation='relu'),\n",
    "        layers.Dense(10, activation='softmax')    \n",
    "    ])"
   ]
  },
  {
   "cell_type": "markdown",
   "id": "8d14d261",
   "metadata": {},
   "source": [
    "# Compile the ANN model "
   ]
  },
  {
   "cell_type": "markdown",
   "id": "d8963890",
   "metadata": {},
   "source": [
    "Before training our model, we compile it first by setting:\n",
    "\n",
    "- Loss function: measures the accuracy of the model during training. the goal is to minimize the loss function. \n",
    "- Optimizer: optimizes the loss function and updates the model \n",
    "- Metrics: used to monitor the training and test steps \n"
   ]
  },
  {
   "cell_type": "code",
   "execution_count": 15,
   "id": "363442fd",
   "metadata": {},
   "outputs": [],
   "source": [
    "# compile the model \n",
    "ann.compile(optimizer='SGD',\n",
    "              loss='sparse_categorical_crossentropy',\n",
    "              metrics=['accuracy'])"
   ]
  },
  {
   "cell_type": "markdown",
   "id": "dafc12cc",
   "metadata": {},
   "source": [
    "# Training the ANN model \n",
    "\n",
    "We first start by calling the fit method which fits the model to the dataset."
   ]
  },
  {
   "cell_type": "code",
   "execution_count": 16,
   "id": "b81472bf",
   "metadata": {},
   "outputs": [
    {
     "name": "stdout",
     "output_type": "stream",
     "text": [
      "Epoch 1/10\n",
      "1563/1563 [==============================] - 49s 31ms/step - loss: 1.8144 - accuracy: 0.3548\n",
      "Epoch 2/10\n",
      "1563/1563 [==============================] - 52s 33ms/step - loss: 1.6253 - accuracy: 0.4273\n",
      "Epoch 3/10\n",
      "1563/1563 [==============================] - 49s 31ms/step - loss: 1.5430 - accuracy: 0.4564\n",
      "Epoch 4/10\n",
      "1563/1563 [==============================] - 52s 33ms/step - loss: 1.4817 - accuracy: 0.4791\n",
      "Epoch 5/10\n",
      "1563/1563 [==============================] - 52s 33ms/step - loss: 1.4326 - accuracy: 0.4954\n",
      "Epoch 6/10\n",
      "1563/1563 [==============================] - 55s 35ms/step - loss: 1.3889 - accuracy: 0.5094\n",
      "Epoch 7/10\n",
      "1563/1563 [==============================] - 57s 36ms/step - loss: 1.3518 - accuracy: 0.5238\n",
      "Epoch 8/10\n",
      "1563/1563 [==============================] - 60s 39ms/step - loss: 1.3150 - accuracy: 0.5384\n",
      "Epoch 9/10\n",
      "1563/1563 [==============================] - 61s 39ms/step - loss: 1.2844 - accuracy: 0.5507\n",
      "Epoch 10/10\n",
      "1563/1563 [==============================] - 58s 37ms/step - loss: 1.2542 - accuracy: 0.5618\n"
     ]
    },
    {
     "data": {
      "text/plain": [
       "<keras.callbacks.History at 0x7fd115123790>"
      ]
     },
     "execution_count": 16,
     "metadata": {},
     "output_type": "execute_result"
    }
   ],
   "source": [
    "#fit the model to the training data\n",
    "ann.fit(X_train, y_train, epochs=10)"
   ]
  },
  {
   "cell_type": "markdown",
   "id": "bd66922b",
   "metadata": {},
   "source": [
    "As the model trains, the loss and accuracy metrics are displayed. This model reaches an accuracy of about 0.56 (or 56%) on the training data."
   ]
  },
  {
   "cell_type": "markdown",
   "id": "512e333d",
   "metadata": {},
   "source": [
    "Then we evaluate our model to see how it performs on the test set"
   ]
  },
  {
   "cell_type": "code",
   "execution_count": 17,
   "id": "24ffe108",
   "metadata": {},
   "outputs": [
    {
     "name": "stdout",
     "output_type": "stream",
     "text": [
      "313/313 - 3s - loss: 1.3806 - accuracy: 0.5082 - 3s/epoch - 9ms/step\n",
      "\n",
      "Test accuracy: 0.5081999897956848\n"
     ]
    }
   ],
   "source": [
    "test_loss, test_acc = ann.evaluate(X_test,  y_test, verbose=2)\n",
    "\n",
    "print('\\nTest accuracy:', test_acc)"
   ]
  },
  {
   "cell_type": "markdown",
   "id": "6a5723da",
   "metadata": {},
   "source": [
    "We can see that it performs even worst on test with an accuracy of of about 0.50 (or 50%)."
   ]
  },
  {
   "cell_type": "markdown",
   "id": "f8c4ec62",
   "metadata": {},
   "source": [
    "# Improve the performance using a CNN\n",
    "\n",
    "the Artificial Neural Network that we trained above is simple to implement but does not perform very well (accuracy of only 56% on the training set and 50% on the test set). \n",
    "\n",
    "To improve our results, we use a Convolutional Neural Network (CNN) instead. "
   ]
  },
  {
   "cell_type": "code",
   "execution_count": 18,
   "id": "d4e82c35",
   "metadata": {},
   "outputs": [],
   "source": [
    "#build cnn \n",
    "cnn = models.Sequential([\n",
    "    layers.Conv2D(filters=32, kernel_size=(3, 3), activation='relu', input_shape=(32, 32, 3)),\n",
    "    layers.MaxPooling2D((2, 2)),\n",
    "    \n",
    "    layers.Conv2D(filters=64, kernel_size=(3, 3), activation='relu'),\n",
    "    layers.MaxPooling2D((2, 2)),\n",
    "    \n",
    "    layers.Flatten(),\n",
    "    layers.Dense(64, activation='relu'),\n",
    "    layers.Dense(10, activation='softmax')\n",
    "])"
   ]
  },
  {
   "cell_type": "markdown",
   "id": "29b20e88",
   "metadata": {},
   "source": [
    "We can display the architecture of our CNN model:"
   ]
  },
  {
   "cell_type": "code",
   "execution_count": 19,
   "id": "521f0e95",
   "metadata": {},
   "outputs": [
    {
     "name": "stdout",
     "output_type": "stream",
     "text": [
      "Model: \"sequential_1\"\n",
      "_________________________________________________________________\n",
      " Layer (type)                Output Shape              Param #   \n",
      "=================================================================\n",
      " conv2d (Conv2D)             (None, 30, 30, 32)        896       \n",
      "                                                                 \n",
      " max_pooling2d (MaxPooling2D  (None, 15, 15, 32)       0         \n",
      " )                                                               \n",
      "                                                                 \n",
      " conv2d_1 (Conv2D)           (None, 13, 13, 64)        18496     \n",
      "                                                                 \n",
      " max_pooling2d_1 (MaxPooling  (None, 6, 6, 64)         0         \n",
      " 2D)                                                             \n",
      "                                                                 \n",
      " flatten_1 (Flatten)         (None, 2304)              0         \n",
      "                                                                 \n",
      " dense_3 (Dense)             (None, 64)                147520    \n",
      "                                                                 \n",
      " dense_4 (Dense)             (None, 10)                650       \n",
      "                                                                 \n",
      "=================================================================\n",
      "Total params: 167,562\n",
      "Trainable params: 167,562\n",
      "Non-trainable params: 0\n",
      "_________________________________________________________________\n"
     ]
    }
   ],
   "source": [
    "# display the architecture of our CNN\n",
    "cnn.summary()"
   ]
  },
  {
   "cell_type": "markdown",
   "id": "1b7906dd",
   "metadata": {},
   "source": [
    "# Compile the CNN model:\n",
    "Before training our model, we compile it first like we did with ANN\n"
   ]
  },
  {
   "cell_type": "code",
   "execution_count": 20,
   "id": "1fe4fe1a",
   "metadata": {},
   "outputs": [],
   "source": [
    "cnn.compile(optimizer='adam',\n",
    "              loss='sparse_categorical_crossentropy',\n",
    "              metrics=['accuracy'])"
   ]
  },
  {
   "cell_type": "markdown",
   "id": "089e05b3",
   "metadata": {},
   "source": [
    "# Training the CNN model \n",
    "\n",
    "We first start by calling the fit method which fits the model to the dataset."
   ]
  },
  {
   "cell_type": "code",
   "execution_count": 21,
   "id": "10b4f21e",
   "metadata": {},
   "outputs": [
    {
     "name": "stdout",
     "output_type": "stream",
     "text": [
      "Epoch 1/10\n",
      "1563/1563 [==============================] - 32s 20ms/step - loss: 1.4794 - accuracy: 0.4672\n",
      "Epoch 2/10\n",
      "1563/1563 [==============================] - 33s 21ms/step - loss: 1.1433 - accuracy: 0.5983\n",
      "Epoch 3/10\n",
      "1563/1563 [==============================] - 34s 22ms/step - loss: 1.0168 - accuracy: 0.6472\n",
      "Epoch 4/10\n",
      "1563/1563 [==============================] - 34s 22ms/step - loss: 0.9362 - accuracy: 0.6756\n",
      "Epoch 5/10\n",
      "1563/1563 [==============================] - 31s 20ms/step - loss: 0.8738 - accuracy: 0.6972\n",
      "Epoch 6/10\n",
      "1563/1563 [==============================] - 35s 22ms/step - loss: 0.8239 - accuracy: 0.7146\n",
      "Epoch 7/10\n",
      "1563/1563 [==============================] - 35s 22ms/step - loss: 0.7816 - accuracy: 0.7282\n",
      "Epoch 8/10\n",
      "1563/1563 [==============================] - 34s 22ms/step - loss: 0.7450 - accuracy: 0.7415\n",
      "Epoch 9/10\n",
      "1563/1563 [==============================] - 33s 21ms/step - loss: 0.7060 - accuracy: 0.7554\n",
      "Epoch 10/10\n",
      "1563/1563 [==============================] - 30s 19ms/step - loss: 0.6747 - accuracy: 0.7667\n"
     ]
    }
   ],
   "source": [
    "history = cnn.fit(X_train, y_train, epochs=10)"
   ]
  },
  {
   "cell_type": "markdown",
   "id": "612ad6eb",
   "metadata": {},
   "source": [
    "As the model trains, the loss and accuracy metrics are displayed. This model reaches an accuracy of about 0.77 (or 77%) on the training data. This is much better than the ANN model which was around 56%."
   ]
  },
  {
   "cell_type": "markdown",
   "id": "f05ba0fa",
   "metadata": {},
   "source": [
    "Then we evaluate our model to see how it performs on the test set"
   ]
  },
  {
   "cell_type": "code",
   "execution_count": 22,
   "id": "c7a34267",
   "metadata": {},
   "outputs": [
    {
     "name": "stdout",
     "output_type": "stream",
     "text": [
      "313/313 - 2s - loss: 0.9141 - accuracy: 0.6981 - 2s/epoch - 6ms/step\n",
      "\n",
      "Test accuracy: 0.6980999708175659\n"
     ]
    }
   ],
   "source": [
    "test_loss, test_acc = cnn.evaluate(X_test,  y_test, verbose=2)\n",
    "\n",
    "print('\\nTest accuracy:', test_acc)"
   ]
  },
  {
   "cell_type": "markdown",
   "id": "80485c93",
   "metadata": {},
   "source": [
    "We can see that it performs even worst on test with an accuracy of of about 0.69 (or 69%). But this is still much better than the performance of the ANN on the test set which was around 50%."
   ]
  },
  {
   "cell_type": "markdown",
   "id": "0c823099",
   "metadata": {},
   "source": [
    "# Make Predictions using the CNN model\n",
    "\n",
    "We can now use our training model to make predictions on the test set.\n",
    "\n",
    "We make predictions for the whole X_test set:"
   ]
  },
  {
   "cell_type": "code",
   "execution_count": 23,
   "id": "c9cc9221",
   "metadata": {},
   "outputs": [
    {
     "name": "stdout",
     "output_type": "stream",
     "text": [
      "313/313 [==============================] - 2s 6ms/step\n"
     ]
    }
   ],
   "source": [
    "#make predictions for the whole X_test set.\n",
    "predictions = cnn.predict(X_test)"
   ]
  },
  {
   "cell_type": "markdown",
   "id": "e8a7697f",
   "metadata": {},
   "source": [
    "We check prediction for the 44th element "
   ]
  },
  {
   "cell_type": "code",
   "execution_count": 24,
   "id": "716687cc",
   "metadata": {},
   "outputs": [
    {
     "data": {
      "text/plain": [
       "array([7.7940226e-01, 8.3015058e-03, 2.9824674e-03, 2.6652538e-06,\n",
       "       6.9253609e-02, 1.2549778e-04, 2.2957352e-06, 1.6628022e-04,\n",
       "       1.2963347e-01, 1.0129902e-02], dtype=float32)"
      ]
     },
     "execution_count": 24,
     "metadata": {},
     "output_type": "execute_result"
    }
   ],
   "source": [
    "#check prediction for the 44th element \n",
    "predictions[44]"
   ]
  },
  {
   "cell_type": "markdown",
   "id": "9513a08b",
   "metadata": {},
   "source": [
    "We can see that the prediction takes the shape of an an array of 10 numbers. The 10 values represent the model's confidence that the image corresponds to each of the 10 different labels. \n",
    "\n",
    "We can see which label has the highest confidence value:"
   ]
  },
  {
   "cell_type": "code",
   "execution_count": 25,
   "id": "7eddded5",
   "metadata": {},
   "outputs": [],
   "source": [
    "# highest confidence\n",
    "y_labels = [np.argmax(element) for element in predictions]"
   ]
  },
  {
   "cell_type": "code",
   "execution_count": 26,
   "id": "ae99d474",
   "metadata": {},
   "outputs": [
    {
     "data": {
      "text/plain": [
       "0"
      ]
     },
     "execution_count": 26,
     "metadata": {},
     "output_type": "execute_result"
    }
   ],
   "source": [
    "#check the class of the 44th element\n",
    "y_labels[44]"
   ]
  },
  {
   "cell_type": "code",
   "execution_count": 27,
   "id": "de9f6468",
   "metadata": {},
   "outputs": [
    {
     "data": {
      "text/plain": [
       "'airplane'"
      ]
     },
     "execution_count": 27,
     "metadata": {},
     "output_type": "execute_result"
    }
   ],
   "source": [
    "#check to what it corresponds \n",
    "labels[0]"
   ]
  },
  {
   "cell_type": "markdown",
   "id": "577d71dd",
   "metadata": {},
   "source": [
    "So, the model is most confident that this image is an airplane, or labels[0]. Examining the test label shows that this classification is correct:"
   ]
  },
  {
   "cell_type": "code",
   "execution_count": 28,
   "id": "192105a2",
   "metadata": {},
   "outputs": [
    {
     "data": {
      "image/png": "[encoded data removed]",
      "text/plain": [
       "<Figure size 432x288 with 2 Axes>"
      ]
     },
     "metadata": {
      "needs_background": "light"
     },
     "output_type": "display_data"
    }
   ],
   "source": [
    "plot_sample(X_test, y_test,44)"
   ]
  },
  {
   "cell_type": "markdown",
   "id": "4fb8589a",
   "metadata": {},
   "source": [
    "Our model prediction for the 44th element of the test set is correct."
   ]
  },
  {
   "cell_type": "code",
   "execution_count": null,
   "id": "36de1afc",
   "metadata": {},
   "outputs": [],
   "source": []
  }
 ],
 "metadata": {
  "kernelspec": {
   "display_name": "Python 3 (ipykernel)",
   "language": "python",
   "name": "python3"
  },
  "language_info": {
   "codemirror_mode": {
    "name": "ipython",
    "version": 3
   },
   "file_extension": ".py",
   "mimetype": "text/x-python",
   "name": "python",
   "nbconvert_exporter": "python",
   "pygments_lexer": "ipython3",
   "version": "3.8.5"
  }
 },
 "nbformat": 4,
 "nbformat_minor": 5
}
